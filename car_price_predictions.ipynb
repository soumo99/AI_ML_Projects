{
  "nbformat": 4,
  "nbformat_minor": 0,
  "metadata": {
    "colab": {
      "name": "car_price_predictions.ipynb",
      "private_outputs": true,
      "provenance": [],
      "authorship_tag": "ABX9TyPx2Rs2+6Ft+A8orGDVnqkx",
      "include_colab_link": true
    },
    "kernelspec": {
      "name": "python3",
      "display_name": "Python 3"
    },
    "language_info": {
      "name": "python"
    }
  },
  "cells": [
    {
      "cell_type": "markdown",
      "metadata": {
        "id": "view-in-github",
        "colab_type": "text"
      },
      "source": [
        "<a href=\"https://colab.research.google.com/github/soumo99/AI_ML_Projects/blob/main/car_price_predictions.ipynb\" target=\"_parent\"><img src=\"https://colab.research.google.com/assets/colab-badge.svg\" alt=\"Open In Colab\"/></a>"
      ]
    },
    {
      "cell_type": "markdown",
      "source": [
        "COMPARISON AMONG THE LINEAR REGRESSION MODEL AND THE LASSO REGRESSION MODEL"
      ],
      "metadata": {
        "id": "EGSUHfCYeUSe"
      }
    },
    {
      "cell_type": "markdown",
      "source": [
        "Importing the packages "
      ],
      "metadata": {
        "id": "5NjesKG9PXNn"
      }
    },
    {
      "cell_type": "code",
      "execution_count": null,
      "metadata": {
        "id": "LmJITibJKxGf"
      },
      "outputs": [],
      "source": [
        "import pandas as pd\n",
        "import matplotlib.pyplot as plt\n",
        "import seaborn as sns\n",
        "from sklearn.model_selection import train_test_split\n",
        "from sklearn.linear_model import LinearRegression\n",
        "from sklearn.linear_model import Lasso\n",
        "from sklearn import metrics\n"
      ]
    },
    {
      "cell_type": "markdown",
      "source": [
        "Data Collection and Processing "
      ],
      "metadata": {
        "id": "Brmsy5CCPawm"
      }
    },
    {
      "cell_type": "code",
      "source": [
        "#loading the dataset from csv file to pandas dataframe\n",
        "car_data_set = pd.read_csv('/content/car data.csv')"
      ],
      "metadata": {
        "id": "Ga7O7ZN_PaOf"
      },
      "execution_count": null,
      "outputs": []
    },
    {
      "cell_type": "code",
      "source": [
        "#Inspecting the first 5 datas fom the dataset\n",
        "car_data_set.head()"
      ],
      "metadata": {
        "id": "aIYuY6jwQjRe"
      },
      "execution_count": null,
      "outputs": []
    },
    {
      "cell_type": "code",
      "source": [
        "car_data_set.shape"
      ],
      "metadata": {
        "id": "_a3TDSRNQ64J"
      },
      "execution_count": null,
      "outputs": []
    },
    {
      "cell_type": "code",
      "source": [
        "#getting some information about the dataset\n",
        "car_data_set.info()"
      ],
      "metadata": {
        "id": "BH2KwgsMRAlw"
      },
      "execution_count": null,
      "outputs": []
    },
    {
      "cell_type": "code",
      "source": [
        "#Checking the number of missing values \n",
        "car_data_set.isnull().sum()"
      ],
      "metadata": {
        "id": "xXs4FPBZqj1E"
      },
      "execution_count": null,
      "outputs": []
    },
    {
      "cell_type": "code",
      "source": [
        "#Checking the distribution of categorical data\n",
        "print(car_data_set.Fuel_Type.value_counts())\n",
        "print(car_data_set.Seller_Type.value_counts())\n",
        "print(car_data_set.Transmission.value_counts())\n",
        "#print(car_data_set.Owner.value_counts())"
      ],
      "metadata": {
        "id": "gYUQclDtrDwA"
      },
      "execution_count": null,
      "outputs": []
    },
    {
      "cell_type": "markdown",
      "source": [
        "Encoding the categorical data"
      ],
      "metadata": {
        "id": "wJqHzBn7sTSk"
      }
    },
    {
      "cell_type": "code",
      "source": [
        "#Encoding the fuel type\n",
        "car_data_set.replace({'Fuel_Type':{'Petrol':0,'Diesel':1,'CNG':2}},inplace=True)\n",
        "\n",
        "#Encoding the Seller  type\n",
        "car_data_set.replace({'Seller_Type':{'Dealer':0,'Individual':1}},inplace=True)\n",
        "\n",
        "#Encoding the Transmission type\n",
        "car_data_set.replace({'Transmission':{'Manual':0,'Automatic':1}},inplace=True)\n",
        "\n",
        "#Encoding the fuel type\n",
        "# car_data_set.replace({'owner':{'First Owner':0,'Second Owner':1,'Third Owner':2,'Fourth & Above Owner':3,'Test Drive Car':4}},inplace=True)"
      ],
      "metadata": {
        "id": "KGnNTW-VsVaf"
      },
      "execution_count": null,
      "outputs": []
    },
    {
      "cell_type": "code",
      "source": [
        "car_data_set.head()"
      ],
      "metadata": {
        "id": "4kEb6nxxtv2i"
      },
      "execution_count": null,
      "outputs": []
    },
    {
      "cell_type": "markdown",
      "source": [
        "Splitting the data and Target"
      ],
      "metadata": {
        "id": "4GROdMS_xysT"
      }
    },
    {
      "cell_type": "code",
      "source": [
        "X = car_data_set.drop(['Car_Name','Selling_Price'],axis=1) #Removing the 2 cols , name and the selling price from the dataset\n",
        "Y = car_data_set['Selling_Price'] #Target varibale "
      ],
      "metadata": {
        "id": "-frND4dAx1oP"
      },
      "execution_count": null,
      "outputs": []
    },
    {
      "cell_type": "code",
      "source": [
        "print(X) "
      ],
      "metadata": {
        "id": "l6h8AqXGyh6m"
      },
      "execution_count": null,
      "outputs": []
    },
    {
      "cell_type": "code",
      "source": [
        "print(Y)"
      ],
      "metadata": {
        "id": "TDMZ-2hpylnY"
      },
      "execution_count": null,
      "outputs": []
    },
    {
      "cell_type": "markdown",
      "source": [
        "Splitting the data into training data and testing data"
      ],
      "metadata": {
        "id": "ZIIoKtlbyzHM"
      }
    },
    {
      "cell_type": "code",
      "source": [
        "#Y_train will be the original data\n",
        "X_train, X_test , Y_train,Y_test = train_test_split(X,Y,test_size=0.1 ,random_state = 2)"
      ],
      "metadata": {
        "id": "csLsgUXFy8Ug"
      },
      "execution_count": null,
      "outputs": []
    },
    {
      "cell_type": "markdown",
      "source": [
        "Model Training\n",
        "\n",
        "LINEAR REGRESSION MODEL "
      ],
      "metadata": {
        "id": "hYXOYRHh1jdb"
      }
    },
    {
      "cell_type": "code",
      "source": [
        "#LINEAR REGRESSION - \n",
        "#LOADING THE LINEAR REGRESSION MODEL\n",
        "\n",
        "lin_reg_model = LinearRegression()"
      ],
      "metadata": {
        "id": "_dC_iyBZ1mP2"
      },
      "execution_count": null,
      "outputs": []
    },
    {
      "cell_type": "code",
      "source": [
        "lin_reg_model.fit(X_train,Y_train)"
      ],
      "metadata": {
        "id": "3LAlx6g-1_WC"
      },
      "execution_count": null,
      "outputs": []
    },
    {
      "cell_type": "markdown",
      "source": [
        "Model Evaluation \n"
      ],
      "metadata": {
        "id": "EgmlLzVszI-A"
      }
    },
    {
      "cell_type": "code",
      "source": [
        "#Prediction on training data\n",
        "training_data_predictions = lin_reg_model.predict(X_train)"
      ],
      "metadata": {
        "id": "MD-FREPuzKdW"
      },
      "execution_count": null,
      "outputs": []
    },
    {
      "cell_type": "code",
      "source": [
        "#R squared error\n",
        "#The value of R squared depends on the problem solving , mainly depends upon the magitude of values we are using \n",
        "error_score = metrics.r2_score(Y_train,training_data_predictions)\n",
        "print(\"R squared error : \",error_score)"
      ],
      "metadata": {
        "id": "W6gXv8fF5KS8"
      },
      "execution_count": null,
      "outputs": []
    },
    {
      "cell_type": "markdown",
      "source": [
        "Visualize the actual and the predicted prices \n"
      ],
      "metadata": {
        "id": "dezdXbMvVNYX"
      }
    },
    {
      "cell_type": "code",
      "source": [
        "plt.scatter(Y_train,training_data_predictions)\n",
        "plt.xlabel(\"Actual Prices\")\n",
        "plt.ylabel(\"Predicted Prices\")\n",
        "plt.title(\"Actual Prices VS Predicted Prices\")\n",
        "plt.show()"
      ],
      "metadata": {
        "id": "_-sKd5TdVREZ"
      },
      "execution_count": null,
      "outputs": []
    },
    {
      "cell_type": "code",
      "source": [
        "#Prediction on testing data\n",
        "test_data_predictions = lin_reg_model.predict(X_test)"
      ],
      "metadata": {
        "id": "CiCmVjSzV6dW"
      },
      "execution_count": null,
      "outputs": []
    },
    {
      "cell_type": "code",
      "source": [
        "#R squared error\n",
        "error_score = metrics.r2_score(Y_test,test_data_predictions)\n",
        "print(\"R squared error : \",error_score)"
      ],
      "metadata": {
        "id": "0fTwPBSDWM9u"
      },
      "execution_count": null,
      "outputs": []
    },
    {
      "cell_type": "code",
      "source": [
        "plt.scatter(Y_test,test_data_predictions)\n",
        "plt.xlabel(\"Actual Prices\")\n",
        "plt.ylabel(\"Predicted Prices\")\n",
        "plt.title(\"Actual Prices VS Predicted Prices\")\n",
        "plt.show()"
      ],
      "metadata": {
        "id": "HKgS8GMFWqvB"
      },
      "execution_count": null,
      "outputs": []
    },
    {
      "cell_type": "markdown",
      "source": [
        "LASSO REGRESSION "
      ],
      "metadata": {
        "id": "6Ff7tjY8Yc5g"
      }
    },
    {
      "cell_type": "code",
      "source": [
        "#LASSO REGRESSION - \n",
        "#LOADING THE LASSO REGRESSION MODEL\n",
        "\n",
        "lasso_reg_model = Lasso()"
      ],
      "metadata": {
        "id": "2VEp_d--YaaB"
      },
      "execution_count": null,
      "outputs": []
    },
    {
      "cell_type": "code",
      "source": [
        "lasso_reg_model.fit(X_train,Y_train)"
      ],
      "metadata": {
        "id": "YcYQ3gf5YaaB"
      },
      "execution_count": null,
      "outputs": []
    },
    {
      "cell_type": "code",
      "source": [
        "#Prediction on training data\n",
        "training_data_predictions = lasso_reg_model.predict(X_train)"
      ],
      "metadata": {
        "id": "0ifOpQetYaaB"
      },
      "execution_count": null,
      "outputs": []
    },
    {
      "cell_type": "code",
      "source": [
        "#R squared error\n",
        "#The value of R squared depends on the problem solving , mainly depends upon the magitude of values we are using \n",
        "error_score = metrics.r2_score(Y_train,training_data_predictions)\n",
        "print(\"R squared error : \",error_score)"
      ],
      "metadata": {
        "id": "uucFA6vnYaaC"
      },
      "execution_count": null,
      "outputs": []
    },
    {
      "cell_type": "code",
      "source": [
        "plt.scatter(Y_train,training_data_predictions)\n",
        "plt.xlabel(\"Actual Prices\")\n",
        "plt.ylabel(\"Predicted Prices\")\n",
        "plt.title(\"Actual Prices VS Predicted Prices\")\n",
        "plt.show()"
      ],
      "metadata": {
        "id": "Ehj8JK-BYaaC"
      },
      "execution_count": null,
      "outputs": []
    },
    {
      "cell_type": "code",
      "source": [
        "#Prediction on testing data\n",
        "test_data_predictions = lasso_reg_model.predict(X_test)"
      ],
      "metadata": {
        "id": "prkYfmPHYaaC"
      },
      "execution_count": null,
      "outputs": []
    },
    {
      "cell_type": "code",
      "source": [
        "#R squared error\n",
        "error_score = metrics.r2_score(Y_test,test_data_predictions)\n",
        "print(\"R squared error : \",error_score)"
      ],
      "metadata": {
        "id": "fW8k6cQIYaaC"
      },
      "execution_count": null,
      "outputs": []
    },
    {
      "cell_type": "code",
      "source": [
        "plt.scatter(Y_test,test_data_predictions)\n",
        "plt.xlabel(\"Actual Prices\")\n",
        "plt.ylabel(\"Predicted Prices\")\n",
        "plt.title(\"Actual Prices VS Predicted Prices\")\n",
        "plt.show()"
      ],
      "metadata": {
        "id": "6CX-BrD0YaaC"
      },
      "execution_count": null,
      "outputs": []
    }
  ]
}