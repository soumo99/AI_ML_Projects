{
  "nbformat": 4,
  "nbformat_minor": 0,
  "metadata": {
    "colab": {
      "name": "Real_Estate_Regression_Project.ipynb",
      "private_outputs": true,
      "provenance": [],
      "authorship_tag": "ABX9TyOvR73sGK0iPsRpqMe78iOz",
      "include_colab_link": true
    },
    "kernelspec": {
      "name": "python3",
      "display_name": "Python 3"
    },
    "language_info": {
      "name": "python"
    }
  },
  "cells": [
    {
      "cell_type": "markdown",
      "metadata": {
        "id": "view-in-github",
        "colab_type": "text"
      },
      "source": [
        "<a href=\"https://colab.research.google.com/github/soumo99/AI_ML_Projects/blob/main/Real_Estate_Regression_Project.ipynb\" target=\"_parent\"><img src=\"https://colab.research.google.com/assets/colab-badge.svg\" alt=\"Open In Colab\"/></a>"
      ]
    },
    {
      "cell_type": "code",
      "execution_count": null,
      "metadata": {
        "id": "7FIN5uze_JhH"
      },
      "outputs": [],
      "source": [
        "import pandas as pd\n",
        "import numpy as np\n",
        "import matplotlib.pyplot as plt\n"
      ]
    },
    {
      "cell_type": "markdown",
      "source": [
        "Loading the dataset"
      ],
      "metadata": {
        "id": "4gSYm-O8QayW"
      }
    },
    {
      "cell_type": "code",
      "source": [
        "data_1 = pd.read_csv('/content/Bengaluru_House_Data.csv')\n",
        "data_1.shape"
      ],
      "metadata": {
        "id": "BSwB1efwQdW8"
      },
      "execution_count": null,
      "outputs": []
    },
    {
      "cell_type": "code",
      "source": [
        "data_1.head(10)"
      ],
      "metadata": {
        "id": "0zkX33XEQrig"
      },
      "execution_count": null,
      "outputs": []
    },
    {
      "cell_type": "code",
      "source": [
        "data_1.info"
      ],
      "metadata": {
        "id": "UzmPbgrXQt5y"
      },
      "execution_count": null,
      "outputs": []
    },
    {
      "cell_type": "markdown",
      "source": [
        "Grouping area type with the speicifc category"
      ],
      "metadata": {
        "id": "8LzUEvbTTSOw"
      }
    },
    {
      "cell_type": "code",
      "source": [
        "data_1.groupby('area_type')['area_type'].agg('count')"
      ],
      "metadata": {
        "id": "EAFP3doqTVjs"
      },
      "execution_count": null,
      "outputs": []
    },
    {
      "cell_type": "markdown",
      "source": [
        "Dropping the extra columns "
      ],
      "metadata": {
        "id": "2Nzm7RHaUk8A"
      }
    },
    {
      "cell_type": "code",
      "source": [
        "data_2 = data_1.drop(['area_type','society','balcony','availability'],axis='columns')\n",
        "data_2.head(10)"
      ],
      "metadata": {
        "id": "VT4FiAH1Unva"
      },
      "execution_count": null,
      "outputs": []
    },
    {
      "cell_type": "markdown",
      "source": [
        "Checking for null values in the dataframe "
      ],
      "metadata": {
        "id": "QdL7F0YJVJje"
      }
    },
    {
      "cell_type": "code",
      "source": [
        "data_2.isnull().sum()"
      ],
      "metadata": {
        "id": "smZbPo8IVNju"
      },
      "execution_count": null,
      "outputs": []
    },
    {
      "cell_type": "markdown",
      "source": [
        "Dropping the NA rows since we have a lot number of rows for each category so dropping NA rows will not affect otherwise we would fill those values wiht the mean or median value"
      ],
      "metadata": {
        "id": "wJpw3WIXVb_K"
      }
    },
    {
      "cell_type": "code",
      "source": [
        "data_3 = data_2.dropna()\n",
        "data_3.isnull().sum()"
      ],
      "metadata": {
        "id": "C3Xz0vOMVgGL"
      },
      "execution_count": null,
      "outputs": []
    },
    {
      "cell_type": "code",
      "source": [
        "data_3.shape"
      ],
      "metadata": {
        "id": "IMBv6FyXV__n"
      },
      "execution_count": null,
      "outputs": []
    },
    {
      "cell_type": "markdown",
      "source": [
        "unique funtion  will give the unique values of a particular column from the dataset"
      ],
      "metadata": {
        "id": "YtKm2IfXWHnL"
      }
    },
    {
      "cell_type": "code",
      "source": [
        "data_3['size'].unique()"
      ],
      "metadata": {
        "id": "Y7cOtYDcWR9D"
      },
      "execution_count": null,
      "outputs": []
    },
    {
      "cell_type": "markdown",
      "source": [
        "Creating a new column named bhk and assigning a new variable x for each element for size column and from there only extracting the numbers. "
      ],
      "metadata": {
        "id": "-EJzw4SIX2dm"
      }
    },
    {
      "cell_type": "code",
      "source": [
        "data_3['bhk'] = data_3['size'].apply(lambda x:int(x.split(' ')[0]))"
      ],
      "metadata": {
        "id": "YPGtGkXMX41t"
      },
      "execution_count": null,
      "outputs": []
    },
    {
      "cell_type": "code",
      "source": [
        "data_3.head()"
      ],
      "metadata": {
        "id": "UCs2EFN6YI_t"
      },
      "execution_count": null,
      "outputs": []
    },
    {
      "cell_type": "code",
      "source": [
        "data_3['bhk'].unique()"
      ],
      "metadata": {
        "id": "AEnANMnKYgu8"
      },
      "execution_count": null,
      "outputs": []
    },
    {
      "cell_type": "code",
      "source": [
        "data_3[data_3.bhk>20]"
      ],
      "metadata": {
        "id": "yTvod9JwYw52"
      },
      "execution_count": null,
      "outputs": []
    },
    {
      "cell_type": "code",
      "source": [
        "data_3.total_sqft.unique()"
      ],
      "metadata": {
        "id": "2YCeBp9xZBgC"
      },
      "execution_count": null,
      "outputs": []
    },
    {
      "cell_type": "markdown",
      "source": [
        "Trying to convert the total square feet value to float and if some values didn't able to convert then it will fall under the except block ."
      ],
      "metadata": {
        "id": "q6fekxN9ZdHz"
      }
    },
    {
      "cell_type": "code",
      "source": [
        "def is_float(x):\n",
        "  try:\n",
        "    float(x)\n",
        "  except:\n",
        "    return False\n",
        "  return True"
      ],
      "metadata": {
        "id": "Xb_y-717Ztc2"
      },
      "execution_count": null,
      "outputs": []
    },
    {
      "cell_type": "code",
      "source": [
        "data_3[~data_3['total_sqft'].apply(is_float)] #~ symbol is used for checking the values from the dataset which are not converted to float "
      ],
      "metadata": {
        "id": "mTli-6swZ4z7"
      },
      "execution_count": null,
      "outputs": []
    },
    {
      "cell_type": "markdown",
      "source": [
        "Data cleaning process started "
      ],
      "metadata": {
        "id": "ZC3b-oTxjM3x"
      }
    },
    {
      "cell_type": "markdown",
      "source": [
        "Converting the range values to fixed values by calculating the avreages between the two otherwise changing the values to float ."
      ],
      "metadata": {
        "id": "hGMf-Yx3b2kP"
      }
    },
    {
      "cell_type": "code",
      "source": [
        "def convert_sqft_to_num(x):\n",
        "  tokens = x.split('-')\n",
        "  if len(tokens) == 2:\n",
        "    return (float(tokens[0])+float(tokens[1]))/2\n",
        "  try:\n",
        "    return float(x)\n",
        "  except:\n",
        "    return None"
      ],
      "metadata": {
        "id": "4hzw4DHtcJv-"
      },
      "execution_count": null,
      "outputs": []
    },
    {
      "cell_type": "code",
      "source": [
        "convert_sqft_to_num('2166')"
      ],
      "metadata": {
        "id": "DEp4uLdihd4R"
      },
      "execution_count": null,
      "outputs": []
    },
    {
      "cell_type": "code",
      "source": [
        "convert_sqft_to_num('2100-2500')"
      ],
      "metadata": {
        "id": "nj8GsvtShmo7"
      },
      "execution_count": null,
      "outputs": []
    },
    {
      "cell_type": "code",
      "source": [
        "convert_sqft_to_num('34.46Sq. Meter')"
      ],
      "metadata": {
        "id": "V4spXoF5h-o3"
      },
      "execution_count": null,
      "outputs": []
    },
    {
      "cell_type": "code",
      "source": [
        "data_4 = data_3.copy()\n",
        "data_4['total_sqft'] = data_4['total_sqft'].apply(convert_sqft_to_num)\n",
        "data_4.head(10)"
      ],
      "metadata": {
        "id": "GZkeEHSZiTnm"
      },
      "execution_count": null,
      "outputs": []
    },
    {
      "cell_type": "code",
      "source": [
        "data_4.loc[410]"
      ],
      "metadata": {
        "id": "4x8pnyTbiz4D"
      },
      "execution_count": null,
      "outputs": []
    },
    {
      "cell_type": "code",
      "source": [
        "data_4.loc[30]"
      ],
      "metadata": {
        "id": "HAkZ7wbVi365"
      },
      "execution_count": null,
      "outputs": []
    },
    {
      "cell_type": "markdown",
      "source": [
        "Calculating price per square feet"
      ],
      "metadata": {
        "id": "8kFZCn2hDXUi"
      }
    },
    {
      "cell_type": "code",
      "source": [
        "data_5 = data_4.copy()\n",
        "data_5['price_per_sqft'] = data_5['price']*100000 / data_5['total_sqft']"
      ],
      "metadata": {
        "id": "QnHeWnHBDZxC"
      },
      "execution_count": null,
      "outputs": []
    },
    {
      "cell_type": "code",
      "source": [
        "data_5.head(10)"
      ],
      "metadata": {
        "id": "_gsaPH68Dv6-"
      },
      "execution_count": null,
      "outputs": []
    },
    {
      "cell_type": "markdown",
      "source": [
        "Checking the number of unique locations "
      ],
      "metadata": {
        "id": "pikla55kD7Ny"
      }
    },
    {
      "cell_type": "code",
      "source": [
        "data_5.location.unique()\n"
      ],
      "metadata": {
        "id": "uOFXNiSTD97m"
      },
      "execution_count": null,
      "outputs": []
    },
    {
      "cell_type": "code",
      "source": [
        "len(data_5.location.unique())"
      ],
      "metadata": {
        "id": "EOq2g3auELv-"
      },
      "execution_count": null,
      "outputs": []
    },
    {
      "cell_type": "code",
      "source": [
        "#For removing the extra white space \n",
        "data_5.location = data_5.location.apply(lambda x:x.strip())\n",
        "\n",
        "#Calculating or sorting the location of datapoints\n",
        "location_stats = data_5.groupby('location')['location'].agg('count').sort_values(ascending=False)\n",
        "location_stats"
      ],
      "metadata": {
        "id": "wKHDIPExEr0V"
      },
      "execution_count": null,
      "outputs": []
    },
    {
      "cell_type": "markdown",
      "source": [
        "Checking the number of location has less than 10 datapoints\n",
        "Then it will considered as other locations "
      ],
      "metadata": {
        "id": "q0ClEhoBFpB4"
      }
    },
    {
      "cell_type": "code",
      "source": [
        "len(location_stats[location_stats <= 10])"
      ],
      "metadata": {
        "id": "CoXlFp18FxG8"
      },
      "execution_count": null,
      "outputs": []
    },
    {
      "cell_type": "code",
      "source": [
        "location_stats_less_than_10 = location_stats[location_stats <= 10]\n",
        "location_stats_less_than_10"
      ],
      "metadata": {
        "id": "sPdCX5_tGIfi"
      },
      "execution_count": null,
      "outputs": []
    },
    {
      "cell_type": "code",
      "source": [
        "len(data_5.location.unique())"
      ],
      "metadata": {
        "id": "8DQetbDbGXfb"
      },
      "execution_count": null,
      "outputs": []
    },
    {
      "cell_type": "markdown",
      "source": [
        "Considering the location whcih are less than 10 as other"
      ],
      "metadata": {
        "id": "V88M5WVoGkMx"
      }
    },
    {
      "cell_type": "code",
      "source": [
        "data_5.location = data_5.location.apply(lambda x:'other' if x in location_stats_less_than_10 else x)"
      ],
      "metadata": {
        "id": "oiB3_YEKGpI2"
      },
      "execution_count": null,
      "outputs": []
    },
    {
      "cell_type": "code",
      "source": [
        "len(data_5.location.unique())"
      ],
      "metadata": {
        "id": "wlcIOgDUG7vH"
      },
      "execution_count": null,
      "outputs": []
    },
    {
      "cell_type": "code",
      "source": [
        "data_5.head(20)"
      ],
      "metadata": {
        "id": "Dem-5HDaHDhH"
      },
      "execution_count": null,
      "outputs": []
    },
    {
      "cell_type": "markdown",
      "source": [
        "Outlier detection and removal"
      ],
      "metadata": {
        "id": "9EHfbHSGocCE"
      }
    },
    {
      "cell_type": "code",
      "source": [
        "data_5[data_5.total_sqft/data_5.bhk < 300].head()"
      ],
      "metadata": {
        "id": "Ui0mNYHUpENH"
      },
      "execution_count": null,
      "outputs": []
    },
    {
      "cell_type": "code",
      "source": [
        "data_6 = data_5[~(data_5.total_sqft/data_5.bhk < 300)]\n",
        "data_6.shape"
      ],
      "metadata": {
        "id": "HDzUEgLNqbD-"
      },
      "execution_count": null,
      "outputs": []
    },
    {
      "cell_type": "markdown",
      "source": [
        "checking for price per square feet"
      ],
      "metadata": {
        "id": "l8ydBpmVqq6y"
      }
    },
    {
      "cell_type": "code",
      "source": [
        "data_6.price_per_sqft.describe()"
      ],
      "metadata": {
        "id": "WrhPtpgGqt-V"
      },
      "execution_count": null,
      "outputs": []
    },
    {
      "cell_type": "markdown",
      "source": [
        "Writing a function so that the extreme cases like the max price can be removed on a standard deviation"
      ],
      "metadata": {
        "id": "Dh-vTfErrMJk"
      }
    },
    {
      "cell_type": "code",
      "source": [
        "def remove_pps_outlier(df):\n",
        "  df_out = pd.DataFrame()\n",
        "  for key,subdf in df.groupby('location'):\n",
        "    m = np.mean(subdf.price_per_sqft)\n",
        "    st = np.std(subdf.price_per_sqft)\n",
        "    reduced_df = subdf[(subdf.price_per_sqft > (m - st)) & (subdf.price_per_sqft <= (m + st))]\n",
        "    df_out = pd.concat([df_out,reduced_df],ignore_index = True)\n",
        "  return df_out\n",
        "\n",
        "\n",
        "data_7 = remove_pps_outlier(data_6)\n",
        "data_7.shape"
      ],
      "metadata": {
        "id": "dp6D2HdqrBez"
      },
      "execution_count": null,
      "outputs": []
    },
    {
      "cell_type": "markdown",
      "source": [
        "Plotting a scatter plot for 2 and 3 bed rooms price checking . "
      ],
      "metadata": {
        "id": "mmMTa-aytttS"
      }
    },
    {
      "cell_type": "code",
      "source": [
        "import matplotlib.pyplot as plt\n",
        "\n",
        "def plot_scatter_chart(df,location):\n",
        "  bhk_2 = df[(df.location == location) & (df.bhk == 2)]\n",
        "  bhk_3 = df[(df.location == location) & (df.bhk == 3)]\n",
        "  plt.rcParams['figure.figsize'] = (15,10)\n",
        "  plt.scatter(bhk_2.total_sqft,bhk_2.price, color = 'blue' , label = '2 BHK', s = 50)\n",
        "  plt.scatter(bhk_3.total_sqft,bhk_3.price, color = 'red' , label = '3 BHK', s = 50, marker  = '*')\n",
        "  plt.xlabel = ('Total Square Feet Area ')\n",
        "  plt.ylabel = ('Price Per Square Feet')\n",
        "  plt.title(location)\n",
        "  plt.legend()\n",
        "\n",
        "plot_scatter_chart(data_7,'Rajaji Nagar')"
      ],
      "metadata": {
        "id": "0IR7bpd2tyir"
      },
      "execution_count": null,
      "outputs": []
    }
  ]
}